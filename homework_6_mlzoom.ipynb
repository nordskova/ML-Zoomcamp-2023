{
 "cells": [
  {
   "cell_type": "markdown",
   "id": "1cafe5f0",
   "metadata": {},
   "source": [
    "# ML Zoomcamp 2023, Homework 6 (trees)"
   ]
  },
  {
   "cell_type": "code",
   "execution_count": 1,
   "id": "0d8074bc",
   "metadata": {},
   "outputs": [],
   "source": [
    "import pandas as pd\n",
    "import numpy as np\n",
    "import seaborn as sns\n",
    "from matplotlib import pyplot as plt\n",
    "from sklearn.model_selection import train_test_split\n",
    "from sklearn.tree import DecisionTreeRegressor\n",
    "from sklearn.ensemble import RandomForestRegressor\n",
    "from sklearn.feature_extraction import DictVectorizer  \n",
    "from sklearn.metrics import mean_squared_error\n",
    "from sklearn.tree import export_text\n",
    "import xgboost as xgb"
   ]
  },
  {
   "cell_type": "code",
   "execution_count": 2,
   "id": "55f485ae",
   "metadata": {},
   "outputs": [],
   "source": [
    "data = pd.read_csv('https://raw.githubusercontent.com/alexeygrigorev/datasets/master/housing.csv')\n",
    "data = data[(data['ocean_proximity'] == 'INLAND') | (data['ocean_proximity'] == '<1H OCEAN')]\n",
    "data['ocean_proximity'] = data['ocean_proximity'].str.replace('<1H OCEAN','l1H OCEAN')"
   ]
  },
  {
   "cell_type": "code",
   "execution_count": 3,
   "id": "78ddb7d7",
   "metadata": {},
   "outputs": [
    {
     "data": {
      "text/html": [
       "<div>\n",
       "<style scoped>\n",
       "    .dataframe tbody tr th:only-of-type {\n",
       "        vertical-align: middle;\n",
       "    }\n",
       "\n",
       "    .dataframe tbody tr th {\n",
       "        vertical-align: top;\n",
       "    }\n",
       "\n",
       "    .dataframe thead th {\n",
       "        text-align: right;\n",
       "    }\n",
       "</style>\n",
       "<table border=\"1\" class=\"dataframe\">\n",
       "  <thead>\n",
       "    <tr style=\"text-align: right;\">\n",
       "      <th></th>\n",
       "      <th>longitude</th>\n",
       "      <th>latitude</th>\n",
       "      <th>housing_median_age</th>\n",
       "      <th>total_rooms</th>\n",
       "      <th>total_bedrooms</th>\n",
       "      <th>population</th>\n",
       "      <th>households</th>\n",
       "      <th>median_income</th>\n",
       "      <th>median_house_value</th>\n",
       "      <th>ocean_proximity</th>\n",
       "    </tr>\n",
       "  </thead>\n",
       "  <tbody>\n",
       "    <tr>\n",
       "      <th>701</th>\n",
       "      <td>-121.97</td>\n",
       "      <td>37.64</td>\n",
       "      <td>32.0</td>\n",
       "      <td>1283.0</td>\n",
       "      <td>194.0</td>\n",
       "      <td>485.0</td>\n",
       "      <td>171.0</td>\n",
       "      <td>6.0574</td>\n",
       "      <td>431000.0</td>\n",
       "      <td>l1H OCEAN</td>\n",
       "    </tr>\n",
       "    <tr>\n",
       "      <th>830</th>\n",
       "      <td>-121.99</td>\n",
       "      <td>37.61</td>\n",
       "      <td>9.0</td>\n",
       "      <td>3666.0</td>\n",
       "      <td>711.0</td>\n",
       "      <td>2341.0</td>\n",
       "      <td>703.0</td>\n",
       "      <td>4.6458</td>\n",
       "      <td>217000.0</td>\n",
       "      <td>l1H OCEAN</td>\n",
       "    </tr>\n",
       "    <tr>\n",
       "      <th>859</th>\n",
       "      <td>-121.97</td>\n",
       "      <td>37.57</td>\n",
       "      <td>21.0</td>\n",
       "      <td>4342.0</td>\n",
       "      <td>783.0</td>\n",
       "      <td>2172.0</td>\n",
       "      <td>789.0</td>\n",
       "      <td>4.6146</td>\n",
       "      <td>247600.0</td>\n",
       "      <td>l1H OCEAN</td>\n",
       "    </tr>\n",
       "    <tr>\n",
       "      <th>860</th>\n",
       "      <td>-121.96</td>\n",
       "      <td>37.58</td>\n",
       "      <td>15.0</td>\n",
       "      <td>3575.0</td>\n",
       "      <td>597.0</td>\n",
       "      <td>1777.0</td>\n",
       "      <td>559.0</td>\n",
       "      <td>5.7192</td>\n",
       "      <td>283500.0</td>\n",
       "      <td>l1H OCEAN</td>\n",
       "    </tr>\n",
       "    <tr>\n",
       "      <th>861</th>\n",
       "      <td>-121.98</td>\n",
       "      <td>37.58</td>\n",
       "      <td>20.0</td>\n",
       "      <td>4126.0</td>\n",
       "      <td>1031.0</td>\n",
       "      <td>2079.0</td>\n",
       "      <td>975.0</td>\n",
       "      <td>3.6832</td>\n",
       "      <td>216900.0</td>\n",
       "      <td>l1H OCEAN</td>\n",
       "    </tr>\n",
       "  </tbody>\n",
       "</table>\n",
       "</div>"
      ],
      "text/plain": [
       "     longitude  latitude  housing_median_age  total_rooms  total_bedrooms  \\\n",
       "701    -121.97     37.64                32.0       1283.0           194.0   \n",
       "830    -121.99     37.61                 9.0       3666.0           711.0   \n",
       "859    -121.97     37.57                21.0       4342.0           783.0   \n",
       "860    -121.96     37.58                15.0       3575.0           597.0   \n",
       "861    -121.98     37.58                20.0       4126.0          1031.0   \n",
       "\n",
       "     population  households  median_income  median_house_value ocean_proximity  \n",
       "701       485.0       171.0         6.0574            431000.0       l1H OCEAN  \n",
       "830      2341.0       703.0         4.6458            217000.0       l1H OCEAN  \n",
       "859      2172.0       789.0         4.6146            247600.0       l1H OCEAN  \n",
       "860      1777.0       559.0         5.7192            283500.0       l1H OCEAN  \n",
       "861      2079.0       975.0         3.6832            216900.0       l1H OCEAN  "
      ]
     },
     "execution_count": 3,
     "metadata": {},
     "output_type": "execute_result"
    }
   ],
   "source": [
    "data.head()"
   ]
  },
  {
   "cell_type": "code",
   "execution_count": 4,
   "id": "a50795e7",
   "metadata": {},
   "outputs": [],
   "source": [
    "SEED = 1\n",
    "data.fillna(0, inplace = True)\n",
    "data['median_house_value'] = np.log1p(data['median_house_value'])\n",
    "X_full_train, X_test = train_test_split(data, test_size=0.2, random_state=SEED)\n",
    "X_train, X_val = train_test_split(X_full_train, test_size=0.25, random_state=SEED)\n",
    "\n",
    "\n",
    "y_train = X_train.median_house_value.values\n",
    "y_val = X_val.median_house_value.values\n",
    "y_test = X_test.median_house_value.values\n",
    "\n",
    "del X_train['median_house_value']\n",
    "del X_val['median_house_value']\n",
    "del X_test['median_house_value']\n",
    "\n",
    "\n",
    "train_dict = X_train.to_dict(orient='records')\n",
    "dv = DictVectorizer(sparse=True)\n",
    "X_train = dv.fit_transform(train_dict)\n",
    "val_dict = X_val.to_dict(orient='records')\n",
    "X_val = dv.transform(val_dict) "
   ]
  },
  {
   "cell_type": "code",
   "execution_count": 5,
   "id": "6cab4722",
   "metadata": {},
   "outputs": [
    {
     "data": {
      "text/plain": [
       "DecisionTreeRegressor(max_depth=1)"
      ]
     },
     "execution_count": 5,
     "metadata": {},
     "output_type": "execute_result"
    }
   ],
   "source": [
    "tree_reg = DecisionTreeRegressor(max_depth=1)\n",
    "tree_reg.fit(X_train,y_train)"
   ]
  },
  {
   "cell_type": "code",
   "execution_count": 6,
   "id": "b3c4dddf",
   "metadata": {},
   "outputs": [
    {
     "name": "stdout",
     "output_type": "stream",
     "text": [
      "|--- ocean_proximity=l1H OCEAN <= 0.50\n",
      "|   |--- value: [11.61]\n",
      "|--- ocean_proximity=l1H OCEAN >  0.50\n",
      "|   |--- value: [12.30]\n",
      "\n"
     ]
    },
    {
     "name": "stderr",
     "output_type": "stream",
     "text": [
      "/Users/anyanordskova/opt/anaconda3/lib/python3.9/site-packages/sklearn/utils/deprecation.py:87: FutureWarning: Function get_feature_names is deprecated; get_feature_names is deprecated in 1.0 and will be removed in 1.2. Please use get_feature_names_out instead.\n",
      "  warnings.warn(msg, category=FutureWarning)\n"
     ]
    }
   ],
   "source": [
    "print(export_text(tree_reg, feature_names=dv.get_feature_names()))"
   ]
  },
  {
   "cell_type": "code",
   "execution_count": 7,
   "id": "4ff43bc9",
   "metadata": {},
   "outputs": [
    {
     "name": "stdout",
     "output_type": "stream",
     "text": [
      "RMSE on validation with 10 estimators: 0.24472569628319227\n",
      "RMSE on validation with 20 estimators: 0.23864941880469268\n",
      "RMSE on validation with 30 estimators: 0.2368245014222163\n",
      "RMSE on validation with 40 estimators: 0.23533546507949907\n",
      "RMSE on validation with 50 estimators: 0.23492471461649822\n",
      "RMSE on validation with 60 estimators: 0.23445574076657003\n",
      "RMSE on validation with 70 estimators: 0.23427611297628062\n",
      "RMSE on validation with 80 estimators: 0.2344513601594545\n",
      "RMSE on validation with 90 estimators: 0.23430323364714226\n",
      "RMSE on validation with 100 estimators: 0.2343039603598108\n",
      "RMSE on validation with 110 estimators: 0.23413888306600833\n",
      "RMSE on validation with 120 estimators: 0.23387748792519467\n",
      "RMSE on validation with 130 estimators: 0.23373630293003372\n",
      "RMSE on validation with 140 estimators: 0.23357916796133255\n",
      "RMSE on validation with 150 estimators: 0.23339076413457252\n",
      "RMSE on validation with 160 estimators: 0.23330937163025903\n",
      "RMSE on validation with 170 estimators: 0.23326552691410687\n",
      "RMSE on validation with 180 estimators: 0.23347574054933773\n",
      "RMSE on validation with 190 estimators: 0.23372701639872195\n",
      "RMSE on validation with 200 estimators: 0.23361981086774466\n"
     ]
    }
   ],
   "source": [
    "def forest_reg(n):\n",
    "    forest_reg = RandomForestRegressor(n_estimators=n,random_state=SEED,n_jobs=-1)\n",
    "    forest_reg.fit(X_train,y_train)\n",
    "\n",
    "    y_pred = forest_reg.predict(X_val)\n",
    "    rmse = mean_squared_error(y_val, y_pred,squared=False)\n",
    "    print(f'RMSE on validation with {n} estimators:', rmse)\n",
    "\n",
    "for n in range(10,201,10):\n",
    "    forest_reg(n)"
   ]
  },
  {
   "cell_type": "markdown",
   "id": "c759329c",
   "metadata": {},
   "source": [
    "I would say that RMSE stops improving after 170, but the closest option in the answers is 160. "
   ]
  },
  {
   "cell_type": "code",
   "execution_count": 8,
   "id": "c19afd5b",
   "metadata": {},
   "outputs": [
    {
     "name": "stdout",
     "output_type": "stream",
     "text": [
      "Depth 10:\n",
      "Best RMSE with this depth: 0.2443480645888683\n",
      "Depth 15:\n",
      "Best RMSE with this depth: 0.23442527859375117\n",
      "Depth 20:\n",
      "Best RMSE with this depth: 0.2336337692209961\n",
      "Depth 25:\n",
      "Best RMSE with this depth: 0.23344717701727608\n"
     ]
    }
   ],
   "source": [
    "depths = [10, 15, 20, 25]\n",
    "def forest_reg(n,d):\n",
    "    forest_reg = RandomForestRegressor(n_estimators=n,max_depth=d,random_state=SEED,n_jobs=-1)\n",
    "    forest_reg.fit(X_train,y_train)\n",
    "\n",
    "    y_pred = forest_reg.predict(X_val)\n",
    "    rmse = mean_squared_error(y_val, y_pred,squared=False)\n",
    "    return rmse \n",
    "\n",
    "\n",
    "for d in depths:\n",
    "    rmses = []\n",
    "    print(f'Depth {d}:')\n",
    "    for n in range(10,201,10):\n",
    "        rmses.append(forest_reg(n,d)) \n",
    "    print(f'Best RMSE with this depth: {min(rmses)}')"
   ]
  },
  {
   "cell_type": "markdown",
   "id": "7548afbd",
   "metadata": {},
   "source": [
    "It seems that 25 is the best number of estimators. "
   ]
  },
  {
   "cell_type": "code",
   "execution_count": 9,
   "id": "a326f71d",
   "metadata": {},
   "outputs": [
    {
     "name": "stdout",
     "output_type": "stream",
     "text": [
      "households 0.01531441146535209\n",
      "housing_median_age 0.029918350615801715\n",
      "latitude 0.1023788857263761\n",
      "longitude 0.08588294549904486\n",
      "median_income 0.33582315293094067\n",
      "ocean_proximity=INLAND 0.18437086435737374\n",
      "ocean_proximity=l1H OCEAN 0.1819085440416149\n",
      "population 0.027965370050039177\n",
      "total_bedrooms 0.01615743731895244\n",
      "total_rooms 0.02028003799450423\n"
     ]
    },
    {
     "name": "stderr",
     "output_type": "stream",
     "text": [
      "/Users/anyanordskova/opt/anaconda3/lib/python3.9/site-packages/sklearn/utils/deprecation.py:87: FutureWarning: Function get_feature_names is deprecated; get_feature_names is deprecated in 1.0 and will be removed in 1.2. Please use get_feature_names_out instead.\n",
      "  warnings.warn(msg, category=FutureWarning)\n"
     ]
    }
   ],
   "source": [
    "forest_reg = RandomForestRegressor(n_estimators=10,max_depth=20,random_state=SEED,n_jobs=-1)\n",
    "forest_reg.fit(X_train,y_train)\n",
    "\n",
    "for n, f in zip(dv.get_feature_names(),forest_reg.feature_importances_): \n",
    "    print(n,f)"
   ]
  },
  {
   "cell_type": "markdown",
   "id": "bceb3702",
   "metadata": {},
   "source": [
    "Hence we see that median_income is the most important feature. "
   ]
  },
  {
   "cell_type": "code",
   "execution_count": 10,
   "id": "6ce52ff9",
   "metadata": {},
   "outputs": [],
   "source": [
    "features = dv.get_feature_names()\n",
    "dtrain = xgb.DMatrix(X_train, label=y_train, feature_names=features)\n",
    "dval = xgb.DMatrix(X_val, label=y_val, feature_names=features)"
   ]
  },
  {
   "cell_type": "code",
   "execution_count": 11,
   "id": "2fcb6372",
   "metadata": {},
   "outputs": [],
   "source": [
    "xgb_params = {\n",
    "    'eta': 0.3, \n",
    "    'max_depth': 6,\n",
    "    'min_child_weight': 1,\n",
    "    \n",
    "    'objective': 'reg:squarederror',\n",
    "    'nthread': 8,\n",
    "    \n",
    "    'seed': 1,\n",
    "    'verbosity': 1,\n",
    "}"
   ]
  },
  {
   "cell_type": "code",
   "execution_count": 12,
   "id": "4c0e6d45",
   "metadata": {},
   "outputs": [
    {
     "data": {
      "text/plain": [
       "0.22897404244864047"
      ]
     },
     "execution_count": 12,
     "metadata": {},
     "output_type": "execute_result"
    }
   ],
   "source": [
    "model = xgb.train(xgb_params, dtrain, num_boost_round=100)\n",
    "watchlist = [(dtrain, 'train'), (dval, 'val')] \n",
    "y_pred = model.predict(dval)\n",
    "mean_squared_error(y_val, y_pred,squared=False)"
   ]
  },
  {
   "cell_type": "code",
   "execution_count": 13,
   "id": "7689915a",
   "metadata": {},
   "outputs": [
    {
     "data": {
      "text/plain": [
       "0.2323352139407306"
      ]
     },
     "execution_count": 13,
     "metadata": {},
     "output_type": "execute_result"
    }
   ],
   "source": [
    "xgb_params = {\n",
    "    'eta': 0.1, \n",
    "    'max_depth': 6,\n",
    "    'min_child_weight': 1,\n",
    "    \n",
    "    'objective': 'reg:squarederror',\n",
    "    'nthread': 8,\n",
    "    \n",
    "    'seed': 1,\n",
    "    'verbosity': 1,\n",
    "}\n",
    "\n",
    "model = xgb.train(xgb_params, dtrain, num_boost_round=100)\n",
    "watchlist = [(dtrain, 'train'), (dval, 'val')] \n",
    "y_pred = model.predict(dval)\n",
    "mean_squared_error(y_val, y_pred,squared=False)"
   ]
  },
  {
   "cell_type": "markdown",
   "id": "7bb33a70",
   "metadata": {},
   "source": [
    "eta = 0.3 gives a better RMSE value"
   ]
  }
 ],
 "metadata": {
  "kernelspec": {
   "display_name": "Python 3 (ipykernel)",
   "language": "python",
   "name": "python3"
  },
  "language_info": {
   "codemirror_mode": {
    "name": "ipython",
    "version": 3
   },
   "file_extension": ".py",
   "mimetype": "text/x-python",
   "name": "python",
   "nbconvert_exporter": "python",
   "pygments_lexer": "ipython3",
   "version": "3.9.13"
  }
 },
 "nbformat": 4,
 "nbformat_minor": 5
}

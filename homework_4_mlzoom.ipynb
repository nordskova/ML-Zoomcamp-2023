{
 "cells": [
  {
   "cell_type": "markdown",
   "id": "a74eda52",
   "metadata": {},
   "source": [
    "# ML Zoomcamp 2023, Homework 4 (evaluation)"
   ]
  },
  {
   "cell_type": "code",
   "execution_count": 1,
   "id": "cfad8cf5",
   "metadata": {},
   "outputs": [],
   "source": [
    "import pandas as pd\n",
    "import numpy as np\n",
    "import matplotlib.pyplot as plt\n",
    "from sklearn import metrics\n",
    "from sklearn.model_selection import train_test_split\n",
    "from sklearn.feature_extraction import DictVectorizer\n",
    "from sklearn.linear_model import LogisticRegression\n",
    "from sklearn.model_selection import KFold"
   ]
  },
  {
   "cell_type": "code",
   "execution_count": 2,
   "id": "1f0a5a1b",
   "metadata": {},
   "outputs": [],
   "source": [
    "df = pd.read_csv('https://raw.githubusercontent.com/alexeygrigorev/mlbookcamp-code/master/chapter-02-car-price/data.csv')\n",
    "df = df[['Make','Model','Year','Engine HP','Engine Cylinders','Transmission Type','Vehicle Style','highway MPG','city mpg','MSRP']]\n",
    "df.columns = df.columns.str.replace(' ', '_').str.lower()\n",
    "df.fillna(0, inplace=True)\n",
    "mean_price = df['msrp'].mean()\n",
    "df['above_average'] = df['msrp'].apply(lambda x: 1 if x > mean_price else 0) \n",
    "\n",
    "del df['msrp']"
   ]
  },
  {
   "cell_type": "code",
   "execution_count": 3,
   "id": "eca4b617",
   "metadata": {},
   "outputs": [],
   "source": [
    "SEED = 1\n",
    "\n",
    "X_full_train, X_test = train_test_split(df, test_size=0.2, random_state=SEED)\n",
    "X_train, X_val = train_test_split(X_full_train, test_size=0.25, random_state=SEED)\n",
    "\n",
    "X_train = X_train.reset_index(drop=True)\n",
    "X_val = X_val.reset_index(drop=True)\n",
    "X_test = X_test.reset_index(drop=True)\n",
    "\n",
    "y_train = X_train.above_average.values\n",
    "y_val = X_val.above_average.values\n",
    "y_test = X_test.above_average.values\n",
    "\n",
    "del X_train['above_average']\n",
    "del X_val['above_average']\n",
    "del X_test['above_average']"
   ]
  },
  {
   "cell_type": "code",
   "execution_count": 4,
   "id": "0e9f4b31",
   "metadata": {},
   "outputs": [
    {
     "name": "stdout",
     "output_type": "stream",
     "text": [
      "year 0.687551492804683\n",
      "engine_hp 0.9171031265539011\n",
      "engine_cylinders 0.766116490165669\n",
      "highway_mpg 0.6330587871772013\n",
      "city_mpg 0.6734244643245233\n"
     ]
    }
   ],
   "source": [
    "numerical = ['year', 'engine_hp', 'engine_cylinders', 'highway_mpg', 'city_mpg']\n",
    "categorical = ['model','make','transmission_type','vehicle_style']\n",
    "for f in numerical:\n",
    "   \n",
    "    if metrics.roc_auc_score(y_train, X_train[f]) > 0.5:\n",
    "        print(f, metrics.roc_auc_score(y_train, X_train[f]))\n",
    "    else: \n",
    "        print(f, metrics.roc_auc_score(y_train, -X_train[f]))\n",
    "        "
   ]
  },
  {
   "cell_type": "code",
   "execution_count": 5,
   "id": "34af3cd1",
   "metadata": {},
   "outputs": [
    {
     "data": {
      "text/html": [
       "<div>\n",
       "<style scoped>\n",
       "    .dataframe tbody tr th:only-of-type {\n",
       "        vertical-align: middle;\n",
       "    }\n",
       "\n",
       "    .dataframe tbody tr th {\n",
       "        vertical-align: top;\n",
       "    }\n",
       "\n",
       "    .dataframe thead th {\n",
       "        text-align: right;\n",
       "    }\n",
       "</style>\n",
       "<table border=\"1\" class=\"dataframe\">\n",
       "  <thead>\n",
       "    <tr style=\"text-align: right;\">\n",
       "      <th></th>\n",
       "      <th>make</th>\n",
       "      <th>model</th>\n",
       "      <th>year</th>\n",
       "      <th>engine_hp</th>\n",
       "      <th>engine_cylinders</th>\n",
       "      <th>transmission_type</th>\n",
       "      <th>vehicle_style</th>\n",
       "      <th>highway_mpg</th>\n",
       "      <th>city_mpg</th>\n",
       "    </tr>\n",
       "  </thead>\n",
       "  <tbody>\n",
       "    <tr>\n",
       "      <th>0</th>\n",
       "      <td>Toyota</td>\n",
       "      <td>Highlander Hybrid</td>\n",
       "      <td>2016</td>\n",
       "      <td>280.0</td>\n",
       "      <td>6.0</td>\n",
       "      <td>AUTOMATIC</td>\n",
       "      <td>4dr SUV</td>\n",
       "      <td>28</td>\n",
       "      <td>27</td>\n",
       "    </tr>\n",
       "    <tr>\n",
       "      <th>1</th>\n",
       "      <td>Chevrolet</td>\n",
       "      <td>Impala Limited</td>\n",
       "      <td>2014</td>\n",
       "      <td>300.0</td>\n",
       "      <td>6.0</td>\n",
       "      <td>AUTOMATIC</td>\n",
       "      <td>Sedan</td>\n",
       "      <td>30</td>\n",
       "      <td>18</td>\n",
       "    </tr>\n",
       "    <tr>\n",
       "      <th>2</th>\n",
       "      <td>Buick</td>\n",
       "      <td>Regal</td>\n",
       "      <td>2016</td>\n",
       "      <td>259.0</td>\n",
       "      <td>4.0</td>\n",
       "      <td>AUTOMATIC</td>\n",
       "      <td>Sedan</td>\n",
       "      <td>27</td>\n",
       "      <td>19</td>\n",
       "    </tr>\n",
       "    <tr>\n",
       "      <th>3</th>\n",
       "      <td>Volkswagen</td>\n",
       "      <td>CC</td>\n",
       "      <td>2015</td>\n",
       "      <td>280.0</td>\n",
       "      <td>6.0</td>\n",
       "      <td>AUTOMATED_MANUAL</td>\n",
       "      <td>Sedan</td>\n",
       "      <td>25</td>\n",
       "      <td>17</td>\n",
       "    </tr>\n",
       "    <tr>\n",
       "      <th>4</th>\n",
       "      <td>Dodge</td>\n",
       "      <td>Grand Caravan</td>\n",
       "      <td>2016</td>\n",
       "      <td>283.0</td>\n",
       "      <td>6.0</td>\n",
       "      <td>AUTOMATIC</td>\n",
       "      <td>Passenger Minivan</td>\n",
       "      <td>25</td>\n",
       "      <td>17</td>\n",
       "    </tr>\n",
       "  </tbody>\n",
       "</table>\n",
       "</div>"
      ],
      "text/plain": [
       "         make              model  year  engine_hp  engine_cylinders  \\\n",
       "0      Toyota  Highlander Hybrid  2016      280.0               6.0   \n",
       "1   Chevrolet     Impala Limited  2014      300.0               6.0   \n",
       "2       Buick              Regal  2016      259.0               4.0   \n",
       "3  Volkswagen                 CC  2015      280.0               6.0   \n",
       "4       Dodge      Grand Caravan  2016      283.0               6.0   \n",
       "\n",
       "  transmission_type      vehicle_style  highway_mpg  city_mpg  \n",
       "0         AUTOMATIC            4dr SUV           28        27  \n",
       "1         AUTOMATIC              Sedan           30        18  \n",
       "2         AUTOMATIC              Sedan           27        19  \n",
       "3  AUTOMATED_MANUAL              Sedan           25        17  \n",
       "4         AUTOMATIC  Passenger Minivan           25        17  "
      ]
     },
     "execution_count": 5,
     "metadata": {},
     "output_type": "execute_result"
    }
   ],
   "source": [
    "X_train.head()"
   ]
  },
  {
   "cell_type": "markdown",
   "id": "34a93e6d",
   "metadata": {},
   "source": [
    "engine_hp has the highest AUC"
   ]
  },
  {
   "cell_type": "code",
   "execution_count": 6,
   "id": "8af12763",
   "metadata": {},
   "outputs": [],
   "source": [
    "train_dict = X_train.to_dict(orient='records')\n",
    "dv = DictVectorizer()\n",
    "X_train = dv.fit_transform(train_dict)\n",
    "val_dict = X_val.to_dict(orient='records')\n",
    "X_val = dv.transform(val_dict) "
   ]
  },
  {
   "cell_type": "code",
   "execution_count": 7,
   "id": "06900e78",
   "metadata": {},
   "outputs": [
    {
     "name": "stdout",
     "output_type": "stream",
     "text": [
      "0.976\n"
     ]
    }
   ],
   "source": [
    "clf = LogisticRegression(solver='liblinear', C=1.0, max_iter=1000, random_state=SEED) \n",
    "clf.fit(X_train,y_train)\n",
    "y_pred = clf.predict_proba(X_val)[:,1]\n",
    "print(round(metrics.roc_auc_score(y_val,y_pred),3))"
   ]
  },
  {
   "cell_type": "code",
   "execution_count": 8,
   "id": "bb3b9507",
   "metadata": {},
   "outputs": [],
   "source": [
    "y_pred = clf.predict_proba(X_val)[:, 1]\n",
    "thresholds = np.linspace(0, 1, 101)\n",
    "\n",
    "scores = []\n",
    "\n",
    "for t in thresholds:\n",
    "    score = metrics.accuracy_score(y_val, y_pred >= t)\n",
    "    scores.append(score)"
   ]
  },
  {
   "cell_type": "code",
   "execution_count": 9,
   "id": "48a622ed",
   "metadata": {},
   "outputs": [
    {
     "data": {
      "text/plain": [
       "[<matplotlib.lines.Line2D at 0x7fd4e93baaf0>]"
      ]
     },
     "execution_count": 9,
     "metadata": {},
     "output_type": "execute_result"
    },
    {
     "data": {
      "image/png": "[encoded data removed]",
      "text/plain": [
       "<Figure size 640x480 with 1 Axes>"
      ]
     },
     "metadata": {},
     "output_type": "display_data"
    }
   ],
   "source": [
    "plt.plot(thresholds, scores)"
   ]
  },
  {
   "cell_type": "code",
   "execution_count": 10,
   "id": "ac31ae33",
   "metadata": {},
   "outputs": [
    {
     "data": {
      "text/plain": [
       "<matplotlib.legend.Legend at 0x7fd4e9c9f220>"
      ]
     },
     "execution_count": 10,
     "metadata": {},
     "output_type": "execute_result"
    },
    {
     "data": {
      "image/png": "[encoded data removed]",
      "text/plain": [
       "<Figure size 640x480 with 1 Axes>"
      ]
     },
     "metadata": {},
     "output_type": "display_data"
    }
   ],
   "source": [
    "y_pred = clf.predict_proba(X_val)[:, 1]\n",
    "\n",
    "scores = []\n",
    "\n",
    "thresholds = np.linspace(0, 1, 101)\n",
    "\n",
    "for t in thresholds:\n",
    "    actual_positive = (y_val == 1)\n",
    "    actual_negative = (y_val == 0)\n",
    "    \n",
    "    predict_positive = (y_pred >= t)\n",
    "    predict_negative = (y_pred < t)\n",
    "\n",
    "    tp = (predict_positive & actual_positive).sum()\n",
    "    tn = (predict_negative & actual_negative).sum()\n",
    "\n",
    "    fp = (predict_positive & actual_negative).sum()\n",
    "    fn = (predict_negative & actual_positive).sum()\n",
    "    \n",
    "    scores.append((t, tp, fp, fn, tn))\n",
    "    \n",
    "columns = ['threshold', 'tp', 'fp', 'fn', 'tn']\n",
    "df_scores = pd.DataFrame(scores, columns=columns)\n",
    "\n",
    "df_scores['precision'] = df_scores.tp / (df_scores.tp + df_scores.fp)\n",
    "df_scores['recall'] = df_scores.tp / (df_scores.tp + df_scores.fn)\n",
    "\n",
    "plt.plot(df_scores.threshold, df_scores['precision'], label='precision')\n",
    "plt.plot(df_scores.threshold, df_scores['recall'], label='recall')\n",
    "\n",
    "plt.legend()"
   ]
  },
  {
   "cell_type": "markdown",
   "id": "da4fee9a",
   "metadata": {},
   "source": [
    "0.48 is the closest threshold to the intersection among the listed options. "
   ]
  },
  {
   "cell_type": "code",
   "execution_count": 11,
   "id": "0fa05580",
   "metadata": {},
   "outputs": [],
   "source": [
    "df_scores['f1'] = 2*df_scores['recall']*df_scores['precision'] / (df_scores['recall']+df_scores['precision'])"
   ]
  },
  {
   "cell_type": "code",
   "execution_count": 12,
   "id": "9f722529",
   "metadata": {},
   "outputs": [
    {
     "data": {
      "text/plain": [
       "[<matplotlib.lines.Line2D at 0x7fd4ea039e50>]"
      ]
     },
     "execution_count": 12,
     "metadata": {},
     "output_type": "execute_result"
    },
    {
     "data": {
      "image/png": "[encoded data removed]",
      "text/plain": [
       "<Figure size 640x480 with 1 Axes>"
      ]
     },
     "metadata": {},
     "output_type": "display_data"
    }
   ],
   "source": [
    "plt.plot(df_scores.threshold, df_scores['f1'], label='df')"
   ]
  },
  {
   "cell_type": "code",
   "execution_count": 13,
   "id": "95d47137",
   "metadata": {},
   "outputs": [
    {
     "data": {
      "text/html": [
       "<div>\n",
       "<style scoped>\n",
       "    .dataframe tbody tr th:only-of-type {\n",
       "        vertical-align: middle;\n",
       "    }\n",
       "\n",
       "    .dataframe tbody tr th {\n",
       "        vertical-align: top;\n",
       "    }\n",
       "\n",
       "    .dataframe thead th {\n",
       "        text-align: right;\n",
       "    }\n",
       "</style>\n",
       "<table border=\"1\" class=\"dataframe\">\n",
       "  <thead>\n",
       "    <tr style=\"text-align: right;\">\n",
       "      <th></th>\n",
       "      <th>threshold</th>\n",
       "      <th>tp</th>\n",
       "      <th>fp</th>\n",
       "      <th>fn</th>\n",
       "      <th>tn</th>\n",
       "      <th>precision</th>\n",
       "      <th>recall</th>\n",
       "      <th>f1</th>\n",
       "    </tr>\n",
       "  </thead>\n",
       "  <tbody>\n",
       "    <tr>\n",
       "      <th>49</th>\n",
       "      <td>0.49</td>\n",
       "      <td>572</td>\n",
       "      <td>77</td>\n",
       "      <td>82</td>\n",
       "      <td>1652</td>\n",
       "      <td>0.881356</td>\n",
       "      <td>0.874618</td>\n",
       "      <td>0.877974</td>\n",
       "    </tr>\n",
       "  </tbody>\n",
       "</table>\n",
       "</div>"
      ],
      "text/plain": [
       "    threshold   tp  fp  fn    tn  precision    recall        f1\n",
       "49       0.49  572  77  82  1652   0.881356  0.874618  0.877974"
      ]
     },
     "execution_count": 13,
     "metadata": {},
     "output_type": "execute_result"
    }
   ],
   "source": [
    "df_scores[df_scores['f1'] == df_scores['f1'].max()]"
   ]
  },
  {
   "cell_type": "markdown",
   "id": "515fc10d",
   "metadata": {},
   "source": [
    "0.52 is the closest answer among listed one. "
   ]
  },
  {
   "cell_type": "code",
   "execution_count": 14,
   "id": "974ae701",
   "metadata": {},
   "outputs": [],
   "source": [
    "def train(df_train, y_train, C=1.0):\n",
    "    dicts = df_train[categorical + numerical].to_dict(orient='records')\n",
    "\n",
    "    dv = DictVectorizer(sparse=False)\n",
    "    X_train = dv.fit_transform(dicts)\n",
    "\n",
    "    model = LogisticRegression(solver='liblinear',C=C, max_iter=1000)\n",
    "    model.fit(X_train, y_train)\n",
    "    \n",
    "    return dv, model"
   ]
  },
  {
   "cell_type": "code",
   "execution_count": 15,
   "id": "9cda0289",
   "metadata": {},
   "outputs": [],
   "source": [
    "def predict(df, dv, model):\n",
    "    dicts = df[categorical + numerical].to_dict(orient='records')\n",
    "\n",
    "    X = dv.transform(dicts)\n",
    "    y_pred = model.predict_proba(X)[:, 1]\n",
    "\n",
    "    return y_pred"
   ]
  },
  {
   "cell_type": "code",
   "execution_count": 16,
   "id": "53377dbd",
   "metadata": {},
   "outputs": [],
   "source": [
    "X_full_train, X_test = train_test_split(df, test_size=0.2, random_state=SEED)\n",
    "X_train, X_val = train_test_split(X_full_train, test_size=0.25, random_state=SEED)\n",
    "\n",
    "X_train = X_train.reset_index(drop=True)\n",
    "X_val = X_val.reset_index(drop=True)\n",
    "X_test = X_test.reset_index(drop=True)"
   ]
  },
  {
   "cell_type": "code",
   "execution_count": 17,
   "id": "83505bc8",
   "metadata": {},
   "outputs": [
    {
     "name": "stdout",
     "output_type": "stream",
     "text": [
      "C=0.01 0.949 +- 0.003\n",
      "C=0.1 0.970 +- 0.003\n",
      "C=0.5 0.978 +- 0.003\n",
      "C=10 0.982 +- 0.003\n"
     ]
    }
   ],
   "source": [
    "n_splits = 5\n",
    "\n",
    "for C in [0.01, 0.1, 0.5, 10]:\n",
    "    kfold = KFold(n_splits=n_splits, shuffle=True, random_state=SEED)\n",
    "\n",
    "    scores = []\n",
    "\n",
    "    for train_idx, val_idx in kfold.split(X_train):\n",
    "        df_train = X_train.iloc[train_idx]\n",
    "        df_val = X_train.iloc[val_idx]\n",
    "\n",
    "        y_train = df_train.above_average.values\n",
    "        y_val = df_val.above_average.values\n",
    "\n",
    "        dv, model = train(df_train, y_train, C=C)\n",
    "        y_pred = predict(df_val, dv, model)\n",
    "\n",
    "        auc = metrics.roc_auc_score(y_val, y_pred)\n",
    "        scores.append(auc)\n",
    "\n",
    "    print('C=%s %.3f +- %.3f' % (C, np.mean(scores), np.std(scores)))"
   ]
  },
  {
   "cell_type": "markdown",
   "id": "4357e7ab",
   "metadata": {},
   "source": [
    "Hence, for C=1 std = 0.004 (closest answer is 0.003) and C=10 gives the best mean score. "
   ]
  }
 ],
 "metadata": {
  "kernelspec": {
   "display_name": "Python 3 (ipykernel)",
   "language": "python",
   "name": "python3"
  },
  "language_info": {
   "codemirror_mode": {
    "name": "ipython",
    "version": 3
   },
   "file_extension": ".py",
   "mimetype": "text/x-python",
   "name": "python",
   "nbconvert_exporter": "python",
   "pygments_lexer": "ipython3",
   "version": "3.9.13"
  }
 },
 "nbformat": 4,
 "nbformat_minor": 5
}

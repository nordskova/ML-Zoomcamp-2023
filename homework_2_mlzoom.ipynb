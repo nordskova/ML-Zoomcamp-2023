{
 "cells": [
  {
   "cell_type": "markdown",
   "id": "15a14308",
   "metadata": {},
   "source": [
    "# ML Zoomcamp 2023, Homework 2 (linear regression)"
   ]
  },
  {
   "cell_type": "code",
   "execution_count": 1,
   "id": "bf9a2168",
   "metadata": {},
   "outputs": [],
   "source": [
    "import pandas as pd\n",
    "import numpy as np\n",
    "import seaborn as sns\n",
    "from matplotlib import pyplot as plt"
   ]
  },
  {
   "cell_type": "code",
   "execution_count": 2,
   "id": "eb00e416",
   "metadata": {},
   "outputs": [],
   "source": [
    "data = pd.read_csv('https://raw.githubusercontent.com/alexeygrigorev/datasets/master/housing.csv')\n",
    "data = data[(data['ocean_proximity'] == 'INLAND') | (data['ocean_proximity'] == '<1H OCEAN')]\n",
    "data = data[['latitude','longitude','housing_median_age','total_rooms','total_bedrooms','population','households','median_income',\n",
    "'median_house_value']]"
   ]
  },
  {
   "cell_type": "code",
   "execution_count": 3,
   "id": "2c36cfb5",
   "metadata": {
    "scrolled": true
   },
   "outputs": [
    {
     "data": {
      "text/plain": [
       "latitude              15687\n",
       "longitude             15687\n",
       "housing_median_age    15687\n",
       "total_rooms           15687\n",
       "total_bedrooms        15530\n",
       "population            15687\n",
       "households            15687\n",
       "median_income         15687\n",
       "median_house_value    15687\n",
       "dtype: int64"
      ]
     },
     "execution_count": 3,
     "metadata": {},
     "output_type": "execute_result"
    }
   ],
   "source": [
    "data.count() "
   ]
  },
  {
   "cell_type": "markdown",
   "id": "657e0ab0",
   "metadata": {},
   "source": [
    "Hence, total_bedrooms has missing values. "
   ]
  },
  {
   "cell_type": "code",
   "execution_count": 4,
   "id": "c58e91a9",
   "metadata": {},
   "outputs": [
    {
     "data": {
      "text/plain": [
       "1195.0"
      ]
     },
     "execution_count": 4,
     "metadata": {},
     "output_type": "execute_result"
    }
   ],
   "source": [
    "data['population'].median()"
   ]
  },
  {
   "cell_type": "markdown",
   "id": "71196085",
   "metadata": {},
   "source": [
    "The median of the population column is 1195. "
   ]
  },
  {
   "cell_type": "code",
   "execution_count": 5,
   "id": "fa42522f",
   "metadata": {},
   "outputs": [],
   "source": [
    "np.random.seed(42)\n",
    "\n",
    "n = len(data)\n",
    "\n",
    "n_val = int(0.2 * n)\n",
    "n_test = int(0.2 * n)\n",
    "n_train = n - (n_val + n_test)\n",
    "\n",
    "idx = np.arange(n)\n",
    "np.random.shuffle(idx)\n",
    "\n",
    "df_shuffled = data.iloc[idx]\n",
    "\n",
    "df_train = df_shuffled.iloc[:n_train].copy()\n",
    "df_val = df_shuffled.iloc[n_train:n_train+n_val].copy()\n",
    "df_test = df_shuffled.iloc[n_train+n_val:].copy()"
   ]
  },
  {
   "cell_type": "code",
   "execution_count": 6,
   "id": "3293146f",
   "metadata": {},
   "outputs": [],
   "source": [
    "y_train = np.log1p(df_train.median_house_value.values)\n",
    "y_val = np.log1p(df_val.median_house_value.values)\n",
    "y_test = np.log1p(df_test.median_house_value.values)\n",
    "\n",
    "del df_train['median_house_value']\n",
    "del df_val['median_house_value']\n",
    "del df_test['median_house_value']"
   ]
  },
  {
   "cell_type": "code",
   "execution_count": 7,
   "id": "a90de686",
   "metadata": {},
   "outputs": [],
   "source": [
    "def train_linear_regression_reg(X, y, r=0.0):\n",
    "    ones = np.ones(X.shape[0])\n",
    "    X = np.column_stack([ones, X])\n",
    "\n",
    "    XTX = X.T.dot(X)\n",
    "    reg = r * np.eye(XTX.shape[0])\n",
    "    XTX = XTX + reg\n",
    "\n",
    "    XTX_inv = np.linalg.inv(XTX)\n",
    "    w = XTX_inv.dot(X.T).dot(y)\n",
    "    \n",
    "    return w[0], w[1:]\n",
    "\n",
    "def rmse(y, y_pred):\n",
    "    error = y_pred - y\n",
    "    mse = (error ** 2).mean()\n",
    "    return np.sqrt(mse)"
   ]
  },
  {
   "cell_type": "code",
   "execution_count": 8,
   "id": "f105c814",
   "metadata": {},
   "outputs": [],
   "source": [
    "bdrmean = df_train.total_bedrooms.mean()\n",
    "train_bdr_0 = df_train\n",
    "train_bdr_0.total_bedrooms = df_train['total_bedrooms'].fillna(0)\n",
    "test_bdr_0 = df_test\n",
    "test_bdr_0.total_bedrooms = df_test['total_bedrooms'].fillna(0)\n",
    "train_bdr_mean = df_train\n",
    "train_bdr_mean.total_bedrooms = df_train['total_bedrooms'].fillna(bdrmean)\n",
    "test_bdr_mean = df_test\n",
    "test_bdr_mean.total_bedrooms = df_test['total_bedrooms'].fillna(bdrmean)\n"
   ]
  },
  {
   "cell_type": "code",
   "execution_count": 9,
   "id": "61fe527c",
   "metadata": {},
   "outputs": [
    {
     "data": {
      "text/plain": [
       "(0.3402719715829537, 0.3402719715829537)"
      ]
     },
     "execution_count": 9,
     "metadata": {},
     "output_type": "execute_result"
    }
   ],
   "source": [
    "w_0, w = train_linear_regression_reg(train_bdr_0, y_train)\n",
    "y_pred_0 = w_0 + train_bdr_0.dot(w)\n",
    "v_0, v = train_linear_regression_reg(train_bdr_mean, y_train)\n",
    "y_pred_mean = v_0 + train_bdr_mean.dot(v)\n",
    "rmse(y_train, y_pred_0),rmse(y_train, y_pred_mean)"
   ]
  },
  {
   "cell_type": "code",
   "execution_count": 10,
   "id": "63838923",
   "metadata": {},
   "outputs": [
    {
     "data": {
      "text/plain": [
       "(0.3400286008487107, 0.3400286008487107)"
      ]
     },
     "execution_count": 10,
     "metadata": {},
     "output_type": "execute_result"
    }
   ],
   "source": [
    "y_pred0 = w_0 + df_val.dot(w)\n",
    "y_predmean = v_0 + df_val.dot(v)\n",
    "rmse(y_val, y_pred0), rmse(y_val, y_predmean)"
   ]
  },
  {
   "cell_type": "markdown",
   "id": "4b5881f0",
   "metadata": {},
   "source": [
    "Both methods of filling nulls give approximately the same result. "
   ]
  },
  {
   "cell_type": "code",
   "execution_count": 11,
   "id": "5ec7eaa0",
   "metadata": {},
   "outputs": [],
   "source": [
    "df_train.total_bedrooms = df_train.total_bedrooms.fillna(0)\n",
    "df_val.total_bedrooms = df_val.total_bedrooms.fillna(0)\n",
    "df_test.total_bedrooms = df_test.total_bedrooms.fillna(0)"
   ]
  },
  {
   "cell_type": "code",
   "execution_count": 12,
   "id": "75887fce",
   "metadata": {},
   "outputs": [
    {
     "name": "stdout",
     "output_type": "stream",
     "text": [
      "0.34\n",
      "0.34\n",
      "0.34\n",
      "0.34\n",
      "0.34\n",
      "0.34\n",
      "0.34\n",
      "0.35\n",
      "0.35\n"
     ]
    }
   ],
   "source": [
    "for r in [0, 0.000001, 0.0001, 0.001, 0.01, 0.1, 1, 5, 10]:\n",
    "    w_0, w = train_linear_regression_reg(df_train, y_train, r=r)\n",
    "    y_pred = w_0 + df_val.dot(w)\n",
    "    print(np.round(rmse(y_val, y_pred),2))"
   ]
  },
  {
   "cell_type": "markdown",
   "id": "5c0fdf95",
   "metadata": {},
   "source": [
    "The smallest r which give the lowest value of RMSE (0.34) is 0. "
   ]
  },
  {
   "cell_type": "code",
   "execution_count": 13,
   "id": "aca02900",
   "metadata": {},
   "outputs": [],
   "source": [
    "data = pd.read_csv('https://raw.githubusercontent.com/alexeygrigorev/datasets/master/housing.csv')\n",
    "data = data[(data['ocean_proximity'] == 'INLAND') | (data['ocean_proximity'] == '<1H OCEAN')]\n",
    "data = data[['latitude','longitude','housing_median_age','total_rooms','total_bedrooms','population','households','median_income',\n",
    "'median_house_value']]\n",
    "data.total_bedrooms = data.total_bedrooms.fillna(0)\n",
    "\n",
    "a = []\n",
    "for i in range(10):\n",
    "    np.random.seed(i)\n",
    "    n = len(data)\n",
    "\n",
    "    n_val = int(0.2 * n)\n",
    "    n_test = int(0.2 * n)\n",
    "    n_train = n - (n_val + n_test)\n",
    "    idx = np.arange(n)\n",
    "\n",
    "    np.random.shuffle(idx)\n",
    "\n",
    "    df_shuffled = data.iloc[idx]\n",
    "\n",
    "    df_train = df_shuffled.iloc[:n_train].copy()\n",
    "    df_val = df_shuffled.iloc[n_train:n_train+n_val].copy()\n",
    "    df_test = df_shuffled.iloc[n_train+n_val:].copy()\n",
    "\n",
    "    y_train = np.log1p(df_train.median_house_value.values)\n",
    "    y_val = np.log1p(df_val.median_house_value.values)\n",
    "    y_test = np.log1p(df_test.median_house_value.values)\n",
    "\n",
    "    del df_train['median_house_value']\n",
    "    del df_val['median_house_value']\n",
    "    del df_test['median_house_value']\n",
    "    \n",
    "    w_0, w = train_linear_regression_reg(df_train, y_train, r=0)\n",
    "    y_pred = w_0 + df_val.dot(w)\n",
    "    a.append(np.round(rmse(y_val, y_pred),3))"
   ]
  },
  {
   "cell_type": "code",
   "execution_count": 14,
   "id": "c87b81ba",
   "metadata": {},
   "outputs": [
    {
     "data": {
      "text/plain": [
       "0.005"
      ]
     },
     "execution_count": 14,
     "metadata": {},
     "output_type": "execute_result"
    }
   ],
   "source": [
    "round(np.std(a),3)"
   ]
  },
  {
   "cell_type": "markdown",
   "id": "946a3906",
   "metadata": {},
   "source": [
    "The standard deviation of all RMSE's obtained with different random seeds is 0.005. "
   ]
  },
  {
   "cell_type": "code",
   "execution_count": 15,
   "id": "1290dd44",
   "metadata": {},
   "outputs": [
    {
     "data": {
      "text/plain": [
       "0.33"
      ]
     },
     "execution_count": 15,
     "metadata": {},
     "output_type": "execute_result"
    }
   ],
   "source": [
    "np.random.seed(9)\n",
    "\n",
    "idx = np.arange(n)\n",
    "np.random.shuffle(idx)\n",
    "\n",
    "df_shuffled = data.iloc[idx]\n",
    "\n",
    "df_train = df_shuffled.iloc[:n_train].copy()\n",
    "df_val = df_shuffled.iloc[n_train:n_train+n_val].copy()\n",
    "df_test = df_shuffled.iloc[n_train+n_val:].copy()\n",
    "\n",
    "y_train = np.log1p(df_train.median_house_value.values)\n",
    "y_val = np.log1p(df_val.median_house_value.values)\n",
    "y_test = np.log1p(df_test.median_house_value.values)\n",
    "\n",
    "del df_train['median_house_value']\n",
    "del df_val['median_house_value']\n",
    "del df_test['median_house_value']\n",
    "\n",
    "X = pd.concat([df_train,df_val])\n",
    "y = np.concatenate([y_train,y_val])\n",
    "    \n",
    "w_0, w = train_linear_regression_reg(X, y, r=0.001)\n",
    "y_pred = w_0 + df_test.dot(w)\n",
    "np.round(rmse(y_test, y_pred),2)"
   ]
  },
  {
   "cell_type": "markdown",
   "id": "ca192c05",
   "metadata": {},
   "source": [
    "RMSE on the test dataset with random seed = 9 and r = 0.001 is 0.33. "
   ]
  }
 ],
 "metadata": {
  "kernelspec": {
   "display_name": "Python 3 (ipykernel)",
   "language": "python",
   "name": "python3"
  },
  "language_info": {
   "codemirror_mode": {
    "name": "ipython",
    "version": 3
   },
   "file_extension": ".py",
   "mimetype": "text/x-python",
   "name": "python",
   "nbconvert_exporter": "python",
   "pygments_lexer": "ipython3",
   "version": "3.9.13"
  }
 },
 "nbformat": 4,
 "nbformat_minor": 5
}
